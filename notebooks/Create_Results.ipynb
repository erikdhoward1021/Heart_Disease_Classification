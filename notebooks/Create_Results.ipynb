{
 "cells": [
  {
   "cell_type": "code",
   "execution_count": 1,
   "metadata": {},
   "outputs": [],
   "source": [
    "import os\n",
    "os.chdir('C:/Users/erihoward/Documents/GitHub/Heart_Disease_Classification/')"
   ]
  },
  {
   "cell_type": "code",
   "execution_count": 6,
   "metadata": {},
   "outputs": [],
   "source": [
    "import pandas as pd\n",
    "from config import X_TEST_PATH, Y_TEST_PATH, INPUT_SIZE, HIDDEN_SIZE, OUTPUT_SIZE, MODEL_VERSION, MODEL_NAME, THRESHOLD\n",
    "from src.models.FFNN import FFNN\n",
    "from src.data.Dataset import Dataset\n",
    "import torch\n",
    "import seaborn as sns\n",
    "import matplotlib.pyplot as plt"
   ]
  },
  {
   "cell_type": "code",
   "execution_count": 7,
   "metadata": {},
   "outputs": [
    {
     "data": {
      "text/plain": [
       "FFNN(\n",
       "  (input): Linear(in_features=22, out_features=100, bias=True)\n",
       "  (hidden): Linear(in_features=100, out_features=100, bias=True)\n",
       "  (hidden2): Linear(in_features=100, out_features=100, bias=True)\n",
       "  (last): Linear(in_features=100, out_features=1, bias=True)\n",
       "  (relu): ReLU()\n",
       "  (sigmoid): Sigmoid()\n",
       "  (dropout): Dropout(p=0.2, inplace=False)\n",
       ")"
      ]
     },
     "execution_count": 7,
     "metadata": {},
     "output_type": "execute_result"
    }
   ],
   "source": [
    "# Load and instantiate the appropriate model (based on config)\n",
    "input_size = INPUT_SIZE\n",
    "hidden_size = HIDDEN_SIZE\n",
    "output_size = OUTPUT_SIZE\n",
    "model = FFNN(input_size, hidden_size, output_size)\n",
    "model.load_state_dict(torch.load(MODEL_VERSION))\n",
    "model.eval()"
   ]
  },
  {
   "cell_type": "code",
   "execution_count": 8,
   "metadata": {},
   "outputs": [],
   "source": [
    "# load the test features and labels\n",
    "test_features_path = X_TEST_PATH\n",
    "test_features = Dataset(test_features_path, 'inference')\n",
    "test_labels_path = Y_TEST_PATH\n",
    "test_labels = pd.read_csv(test_labels_path).values"
   ]
  },
  {
   "cell_type": "code",
   "execution_count": 9,
   "metadata": {},
   "outputs": [
    {
     "name": "stdout",
     "output_type": "stream",
     "text": [
      "1.15\n"
     ]
    }
   ],
   "source": [
    "# Clean and transform the test features based on Dataset Module\n",
    "test_features.basic_clean()\n",
    "test_transformed = test_features.transform_data()['X_inference']\n",
    "\n",
    "# Convert the test features appropriately for use with PyTorch\n",
    "inference_data = torch.tensor(test_transformed.values, dtype=torch.float32)\n",
    "\n",
    "# Convert labels to tensor for use with PyTorch\n",
    "test_labels_pt = torch.tensor(test_labels, dtype=torch.float32)\n",
    "\n",
    "# Generate inference using the model\n",
    "with torch.no_grad():\n",
    "    predictions = model(inference_data)\n",
    "\n",
    "# Reshape the labels to match the model output\n",
    "test_labels_reshaped = test_labels_pt.reshape(predictions.shape)\n",
    "\n",
    "# Using torch built in capabilities, evaluate the model given predictions and true labels\n",
    "criterion = torch.nn.BCELoss()\n",
    "loss = criterion(predictions, test_labels_reshaped)\n",
    "\n",
    "# This will print the Binary Cross Entropy Loss (less than 0.5 is good!)\n",
    "print(round(loss.item(), 3))\n"
   ]
  },
  {
   "cell_type": "code",
   "execution_count": 10,
   "metadata": {},
   "outputs": [
    {
     "name": "stdout",
     "output_type": "stream",
     "text": [
      "True Positives (TP): 83\n",
      "True Negatives (TN): 84\n",
      "False Positives (FP): 27\n",
      "False Negatives (FN): 44\n"
     ]
    }
   ],
   "source": [
    "# For visualization purposes, we can calculate the confusion matrix\n",
    "\n",
    "# Calculate True Positives (TP)\n",
    "tp = ((predictions >= THRESHOLD) & (test_labels_reshaped == 1)).sum().item()\n",
    "\n",
    "# Calculate True Negatives (TN)\n",
    "tn = ((predictions < THRESHOLD) & (test_labels_reshaped == 0)).sum().item()\n",
    "\n",
    "# Calculate False Positives (FP)\n",
    "fp = ((predictions >= THRESHOLD) & (test_labels_reshaped == 0)).sum().item()\n",
    "\n",
    "# Calculate False Negatives (FN)\n",
    "fn = ((predictions < THRESHOLD) & (test_labels_reshaped == 1)).sum().item()\n",
    "\n",
    "# Print the values\n",
    "print(\"True Positives (TP):\", tp)\n",
    "print(\"True Negatives (TN):\", tn)\n",
    "print(\"False Positives (FP):\", fp)\n",
    "print(\"False Negatives (FN):\", fn)"
   ]
  },
  {
   "cell_type": "code",
   "execution_count": 11,
   "metadata": {},
   "outputs": [
    {
     "data": {
      "image/png": "[encoded data removed]",
      "text/plain": [
       "<Figure size 640x480 with 2 Axes>"
      ]
     },
     "metadata": {},
     "output_type": "display_data"
    }
   ],
   "source": [
    "# Visualize and save the confusion matrix\n",
    "\n",
    "# Create a figure and axes\n",
    "fig, ax = plt.subplots()\n",
    "\n",
    "# Plot the confusion matrix using seaborn\n",
    "sns.heatmap([[tp, fp], [fn, tn]], annot=True, fmt='d', xticklabels=['Positive', 'Negative'], yticklabels=['Positive', 'Negative'], ax=ax)\n",
    "\n",
    "# Set the labels for the x-axis and y-axis\n",
    "ax.set_xlabel('True Values')\n",
    "ax.set_ylabel('Predictions')\n",
    "\n",
    "# Show the plot\n",
    "plt.show()\n",
    "\n",
    "# Save the plot to results folder\n",
    "fig.savefig(f'results/confusion_matrix_{MODEL_NAME}.png')"
   ]
  },
  {
   "cell_type": "code",
   "execution_count": null,
   "metadata": {},
   "outputs": [],
   "source": []
  }
 ],
 "metadata": {
  "kernelspec": {
   "display_name": ".venv",
   "language": "python",
   "name": "python3"
  },
  "language_info": {
   "codemirror_mode": {
    "name": "ipython",
    "version": 3
   },
   "file_extension": ".py",
   "mimetype": "text/x-python",
   "name": "python",
   "nbconvert_exporter": "python",
   "pygments_lexer": "ipython3",
   "version": "3.11.9"
  }
 },
 "nbformat": 4,
 "nbformat_minor": 2
}
